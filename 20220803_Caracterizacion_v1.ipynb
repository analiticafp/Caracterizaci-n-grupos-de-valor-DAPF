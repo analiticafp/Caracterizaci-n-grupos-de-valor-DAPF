{
 "cells": [
  {
   "cell_type": "code",
   "execution_count": null,
   "id": "c458ceba",
   "metadata": {},
   "outputs": [],
   "source": [
    "import pandas as pd\n",
    "import datetime as dt\n",
    "import re"
   ]
  },
  {
   "cell_type": "markdown",
   "id": "8da1c519",
   "metadata": {},
   "source": [
    "<h2>Cursos en eva</h2>"
   ]
  },
  {
   "cell_type": "code",
   "execution_count": null,
   "id": "ad58cd06",
   "metadata": {},
   "outputs": [],
   "source": [
    "df = pd.read_csv('Reporte-Cursos_22-08-12_02-52-23.csv', sep=';', encoding='latin-1', verbose = False)"
   ]
  },
  {
   "cell_type": "code",
   "execution_count": null,
   "id": "7b35e804",
   "metadata": {},
   "outputs": [],
   "source": [
    "df2 = df.copy()\n",
    "df2 = df2[df2['INDUCCION-GERENTES-PUBLICOS_INSCRITO'] != '-']\n",
    "df2 = df2[df2.notnull()]\n",
    "df2['INDUCCION-GERENTES-PUBLICOS_INSCRITO'] = df2['INDUCCION-GERENTES-PUBLICOS_INSCRITO'].apply(pd.to_datetime)\n",
    "df2 = df2[df2['INDUCCION-GERENTES-PUBLICOS_INSCRITO'].dt.year >= 2021]\n",
    "df2['CANAL'] = 'CURSOS_EVA'\n",
    "df2['TIPO_IDENTIFICACION_USUARIO'] = 'CC'\n",
    "df2['NOMBRE_USUARIO']= df2['NOMBRES']+df2['APELLIDOS']\n",
    "df2['DEPENDENCIA'] = 'Dirección de Empleo Público'\n",
    "df2['DISCAPACIDAD'] = ''\n",
    "df2['TEMA'] = 'Inducción de gerentes públicos'\n",
    "df2['ASUNTO'] = ''\n",
    "df2['SUBTEMA'] = ''\n",
    "df2['DESCRIPCION'] = ''\n",
    "df2['OTRO_GRUPO_INTERES'] = ''\n",
    "df2['GRUPO_INTERES'] = df2['NOMBRE'].apply( lambda x: 'CIUDADANIA U OTRA ENTIDAD' if x=='CIUDADANIA U OTRA ENTIDAD' or x=='' else 'ENTIDAD' )\n",
    "df2['ENTIDAD_ASOCIADO_CODSIGEP'] = df2['CODSIGEP']\n",
    "df2['ENTIDAD_ASOCIADO_NOMBRE_SIGEP'] = df2['NOMBRE'].apply( lambda x: x if x !='CIUDADANIA U OTRA ENTIDAD' or x !='' else '' )\n",
    "df2 = df2.rename(columns={'LOGIN': 'ID_ATENCION','INDUCCION-GERENTES-PUBLICOS_INSCRITO': 'FECHA_ATENCION','EMAIL': 'CORREO_ELECTRONICO', 'CEDULA':'IDENTIFICACION_USUARIO','PUEBLO_COMUNIDAD':'ETNICO'})\n",
    "df2 = df2[['CANAL', 'DEPENDENCIA', 'ID_ATENCION', 'FECHA_ATENCION', 'ASUNTO', 'TEMA', 'SUBTEMA', 'DESCRIPCION', 'COD_DEPARTAMENTO', 'DEPARTAMENTO','COD_MUNICIPIO','MUNICIPIO','TIPO_IDENTIFICACION_USUARIO','IDENTIFICACION_USUARIO','NOMBRE_USUARIO','CORREO_ELECTRONICO', 'DISCAPACIDAD', 'ETNICO','OTRO_GRUPO_INTERES','ENTIDAD_ASOCIADO_CODSIGEP','ENTIDAD_ASOCIADO_NOMBRE_SIGEP']]"
   ]
  },
  {
   "cell_type": "code",
   "execution_count": null,
   "id": "b13f045f",
   "metadata": {},
   "outputs": [],
   "source": [
    "df3 = df.copy()\n",
    "df3 = df3[df3['VEEDURIA-CIUDADANAV2_INSCRITO'] != '-']\n",
    "df3 = df3[df3.notnull()]\n",
    "df3['VEEDURIA-CIUDADANAV2_INSCRITO'] = df3['VEEDURIA-CIUDADANAV2_INSCRITO'].apply(pd.to_datetime)\n",
    "df3 = df3[df3['VEEDURIA-CIUDADANAV2_INSCRITO'].dt.year >= 2021]\n",
    "df3['CANAL'] = 'CURSOS_EVA'\n",
    "df3['TIPO_IDENTIFICACION_USUARIO'] = 'CC'\n",
    "df3['NOMBRE_USUARIO']= df3['NOMBRES']+df3['APELLIDOS']\n",
    "df3['DEPENDENCIA'] = 'Dirección Participación, Transparencia y Servicio al Ciudadano'\n",
    "df3['DISCAPACIDAD'] = ''\n",
    "df3['TEMA'] = 'Veeduria ciudadana'\n",
    "df3['ASUNTO'] = ''\n",
    "df3['SUBTEMA'] = ''\n",
    "df3['DESCRIPCION'] = ''\n",
    "df3['OTRO_GRUPO_INTERES'] = ''\n",
    "df3['GRUPO_INTERES'] = df3['NOMBRE'].apply( lambda x: 'CIUDADANIA U OTRA ENTIDAD' if x=='CIUDADANIA U OTRA ENTIDAD' or x=='' else 'ENTIDAD' )\n",
    "df3['ENTIDAD_ASOCIADO_CODSIGEP'] = df3['CODSIGEP']\n",
    "df3['ENTIDAD_ASOCIADO_NOMBRE_SIGEP'] = df3['NOMBRE'].apply( lambda x: x if x !='CIUDADANIA U OTRA ENTIDAD' or x !='' else '' )\n",
    "df3 = df3.rename(columns={'LOGIN': 'ID_ATENCION','VEEDURIA-CIUDADANAV2_INSCRITO': 'FECHA_ATENCION','EMAIL': 'CORREO_ELECTRONICO', 'CEDULA':'IDENTIFICACION_USUARIO','PUEBLO_COMUNIDAD':'ETNICO'})\n",
    "df3 = df3[['CANAL', 'DEPENDENCIA', 'ID_ATENCION', 'FECHA_ATENCION', 'ASUNTO', 'TEMA', 'SUBTEMA', 'DESCRIPCION', 'COD_DEPARTAMENTO', 'DEPARTAMENTO','COD_MUNICIPIO','MUNICIPIO','TIPO_IDENTIFICACION_USUARIO','IDENTIFICACION_USUARIO','NOMBRE_USUARIO','CORREO_ELECTRONICO', 'DISCAPACIDAD', 'ETNICO','OTRO_GRUPO_INTERES','ENTIDAD_ASOCIADO_CODSIGEP','ENTIDAD_ASOCIADO_NOMBRE_SIGEP']]"
   ]
  },
  {
   "cell_type": "code",
   "execution_count": null,
   "id": "4ffafc3d",
   "metadata": {},
   "outputs": [],
   "source": [
    "df4 = df.copy()\n",
    "df4 = df4[df4['EMPLEO-PUBLICOV2019_INSCRITO'] != '-']\n",
    "df4 = df4[df4.notnull()]\n",
    "df4['EMPLEO-PUBLICOV2019_INSCRITO'] = df4['EMPLEO-PUBLICOV2019_INSCRITO'].apply(pd.to_datetime)\n",
    "df4 = df4[df4['EMPLEO-PUBLICOV2019_INSCRITO'].dt.year >= 2021]\n",
    "df4['CANAL'] = 'CURSOS_EVA'\n",
    "df4['TIPO_IDENTIFICACION_USUARIO'] = 'CC'\n",
    "df4['NOMBRE_USUARIO']= df4['NOMBRES']+df4['APELLIDOS']\n",
    "df4['DEPENDENCIA'] = 'Dirección de Empleo Público'\n",
    "df4['DISCAPACIDAD'] = ''\n",
    "df4['TEMA'] = 'Empleo público'\n",
    "df4['ASUNTO'] = ''\n",
    "df4['SUBTEMA'] = ''\n",
    "df4['DESCRIPCION'] = ''\n",
    "df4['OTRO_GRUPO_INTERES'] = ''\n",
    "df4['GRUPO_INTERES'] = df4['NOMBRE'].apply( lambda x: 'CIUDADANIA U OTRA ENTIDAD' if x=='CIUDADANIA U OTRA ENTIDAD' or x=='' else 'ENTIDAD' )\n",
    "df4['ENTIDAD_ASOCIADO_CODSIGEP'] = df4['CODSIGEP']\n",
    "df4['ENTIDAD_ASOCIADO_NOMBRE_SIGEP'] = df4['NOMBRE'].apply( lambda x: x if x !='CIUDADANIA U OTRA ENTIDAD' or x !='' else '' )\n",
    "df4 = df4.rename(columns={'LOGIN': 'ID_ATENCION','EMPLEO-PUBLICOV2019_INSCRITO': 'FECHA_ATENCION','EMAIL': 'CORREO_ELECTRONICO', 'CEDULA':'IDENTIFICACION_USUARIO','PUEBLO_COMUNIDAD':'ETNICO'})\n",
    "df4 = df4[['CANAL', 'DEPENDENCIA', 'ID_ATENCION', 'FECHA_ATENCION', 'ASUNTO', 'TEMA', 'SUBTEMA', 'DESCRIPCION', 'COD_DEPARTAMENTO', 'DEPARTAMENTO','COD_MUNICIPIO','MUNICIPIO','TIPO_IDENTIFICACION_USUARIO','IDENTIFICACION_USUARIO','NOMBRE_USUARIO','CORREO_ELECTRONICO', 'DISCAPACIDAD', 'ETNICO','OTRO_GRUPO_INTERES','ENTIDAD_ASOCIADO_CODSIGEP','ENTIDAD_ASOCIADO_NOMBRE_SIGEP']]"
   ]
  },
  {
   "cell_type": "code",
   "execution_count": null,
   "id": "14cbc0b0",
   "metadata": {},
   "outputs": [],
   "source": [
    "df5 = df.copy()\n",
    "df5 = df5[df5['EMPLEO-PUBLICO_INSCRITO'] != '-']\n",
    "df5 = df5[df5.notnull()]\n",
    "df5['EMPLEO-PUBLICO_INSCRITO'] = df5['EMPLEO-PUBLICO_INSCRITO'].apply(pd.to_datetime)\n",
    "df5 = df5[df5['EMPLEO-PUBLICO_INSCRITO'].dt.year >= 2021]\n",
    "df5['CANAL'] = 'CURSOS_EVA'\n",
    "df5['TIPO_IDENTIFICACION_USUARIO'] = 'CC'\n",
    "df5['NOMBRE_USUARIO']= df5['NOMBRES']+df5['APELLIDOS']\n",
    "df5['DEPENDENCIA'] = 'Dirección de Empleo Público'\n",
    "df5['DISCAPACIDAD'] = ''\n",
    "df5['TEMA'] = 'Empleo público'\n",
    "df5['ASUNTO'] = ''\n",
    "df5['SUBTEMA'] = ''\n",
    "df5['DESCRIPCION'] = ''\n",
    "df5['OTRO_GRUPO_INTERES'] = ''\n",
    "df5['GRUPO_INTERES'] = df5['NOMBRE'].apply( lambda x: 'CIUDADANIA U OTRA ENTIDAD' if x=='CIUDADANIA U OTRA ENTIDAD' or x=='' else 'ENTIDAD' )\n",
    "df5['ENTIDAD_ASOCIADO_CODSIGEP'] = df5['CODSIGEP']\n",
    "df5['ENTIDAD_ASOCIADO_NOMBRE_SIGEP'] = df5['NOMBRE'].apply( lambda x: x if x !='CIUDADANIA U OTRA ENTIDAD' or x !='' else '' )\n",
    "df5 = df5.rename(columns={'LOGIN': 'ID_ATENCION','EMPLEO-PUBLICO_INSCRITO': 'FECHA_ATENCION','EMAIL': 'CORREO_ELECTRONICO', 'CEDULA':'IDENTIFICACION_USUARIO','PUEBLO_COMUNIDAD':'ETNICO'})\n",
    "df5 = df5[['CANAL', 'DEPENDENCIA', 'ID_ATENCION', 'FECHA_ATENCION', 'ASUNTO', 'TEMA', 'SUBTEMA', 'DESCRIPCION', 'COD_DEPARTAMENTO', 'DEPARTAMENTO','COD_MUNICIPIO','MUNICIPIO','TIPO_IDENTIFICACION_USUARIO','IDENTIFICACION_USUARIO','NOMBRE_USUARIO','CORREO_ELECTRONICO', 'DISCAPACIDAD', 'ETNICO','OTRO_GRUPO_INTERES','ENTIDAD_ASOCIADO_CODSIGEP','ENTIDAD_ASOCIADO_NOMBRE_SIGEP']]"
   ]
  },
  {
   "cell_type": "code",
   "execution_count": null,
   "id": "d45acfb6",
   "metadata": {},
   "outputs": [],
   "source": [
    "df6 = df.copy()\n",
    "df6 = df6[df6['INTEGRIDAD_INSCRITO'] != '-']\n",
    "df6 = df6[df6.notnull()]\n",
    "df6['INTEGRIDAD_INSCRITO'] = df6['INTEGRIDAD_INSCRITO'].apply(pd.to_datetime)\n",
    "df6 = df6[df6['INTEGRIDAD_INSCRITO'].dt.year >= 2021]\n",
    "df6['CANAL'] = 'CURSOS_EVA'\n",
    "df6['TIPO_IDENTIFICACION_USUARIO'] = 'CC'\n",
    "df6['NOMBRE_USUARIO']= df6['NOMBRES']+df6['APELLIDOS']\n",
    "df6['DEPENDENCIA'] = 'Dirección Participación, Transparencia y Servicio al Ciudadano'\n",
    "df6['DISCAPACIDAD'] = ''\n",
    "df6['TEMA'] = 'Integridad'\n",
    "df6['ASUNTO'] = ''\n",
    "df6['SUBTEMA'] = ''\n",
    "df6['DESCRIPCION'] = ''\n",
    "df6['OTRO_GRUPO_INTERES'] = ''\n",
    "df6['GRUPO_INTERES'] = df6['NOMBRE'].apply( lambda x: 'CIUDADANIA U OTRA ENTIDAD' if x=='CIUDADANIA U OTRA ENTIDAD' or x=='' else 'ENTIDAD' )\n",
    "df6['ENTIDAD_ASOCIADO_CODSIGEP'] = df6['CODSIGEP']\n",
    "df6['ENTIDAD_ASOCIADO_NOMBRE_SIGEP'] = df6['NOMBRE'].apply( lambda x: x if x !='CIUDADANIA U OTRA ENTIDAD' or x !='' else '' )\n",
    "df6 = df6.rename(columns={'LOGIN': 'ID_ATENCION','INTEGRIDAD_INSCRITO': 'FECHA_ATENCION','EMAIL': 'CORREO_ELECTRONICO', 'CEDULA':'IDENTIFICACION_USUARIO','PUEBLO_COMUNIDAD':'ETNICO'})\n",
    "df6 = df6[['CANAL', 'DEPENDENCIA', 'ID_ATENCION', 'FECHA_ATENCION', 'ASUNTO', 'TEMA', 'SUBTEMA', 'DESCRIPCION', 'COD_DEPARTAMENTO', 'DEPARTAMENTO','COD_MUNICIPIO','MUNICIPIO','TIPO_IDENTIFICACION_USUARIO','IDENTIFICACION_USUARIO','NOMBRE_USUARIO','CORREO_ELECTRONICO', 'DISCAPACIDAD', 'ETNICO','OTRO_GRUPO_INTERES','ENTIDAD_ASOCIADO_CODSIGEP','ENTIDAD_ASOCIADO_NOMBRE_SIGEP']]"
   ]
  },
  {
   "cell_type": "code",
   "execution_count": null,
   "id": "773e7f14",
   "metadata": {},
   "outputs": [],
   "source": [
    "df7 = df.copy()\n",
    "df7 = df7[df7['IBEROAMERICANO_INSCRITO'] != '-']\n",
    "df7 = df7[df7.notnull()]\n",
    "df7['IBEROAMERICANO_INSCRITO'] = df7['IBEROAMERICANO_INSCRITO'].apply(pd.to_datetime)\n",
    "df7 = df7[df7['IBEROAMERICANO_INSCRITO'].dt.year >= 2021]\n",
    "df7['CANAL'] = 'CURSOS_EVA'\n",
    "df7['TIPO_IDENTIFICACION_USUARIO'] = 'CC'\n",
    "df7['NOMBRE_USUARIO']= df7['NOMBRES']+df7['APELLIDOS']\n",
    "df7['DEPENDENCIA'] = 'Dirección de Gestión y Desempeño Institucional'\n",
    "df7['DISCAPACIDAD'] = ''\n",
    "df7['TEMA'] = 'MIPG'\n",
    "df7['ASUNTO'] = ''\n",
    "df7['SUBTEMA'] = 'Iberoamericano'\n",
    "df7['DESCRIPCION'] = ''\n",
    "df7['OTRO_GRUPO_INTERES'] = ''\n",
    "df7['GRUPO_INTERES'] = df7['NOMBRE'].apply( lambda x: 'CIUDADANIA U OTRA ENTIDAD' if x=='CIUDADANIA U OTRA ENTIDAD' or x=='' else 'ENTIDAD' )\n",
    "df7['ENTIDAD_ASOCIADO_CODSIGEP'] = df7['CODSIGEP']\n",
    "df7['ENTIDAD_ASOCIADO_NOMBRE_SIGEP'] = df7['NOMBRE'].apply( lambda x: x if x !='CIUDADANIA U OTRA ENTIDAD' or x !='' else '' )\n",
    "df7 = df7.rename(columns={'LOGIN': 'ID_ATENCION','IBEROAMERICANO_INSCRITO': 'FECHA_ATENCION','EMAIL': 'CORREO_ELECTRONICO', 'CEDULA':'IDENTIFICACION_USUARIO','PUEBLO_COMUNIDAD':'ETNICO'})\n",
    "df7 = df7[['CANAL', 'DEPENDENCIA', 'ID_ATENCION', 'FECHA_ATENCION', 'ASUNTO', 'TEMA', 'SUBTEMA', 'DESCRIPCION', 'COD_DEPARTAMENTO', 'DEPARTAMENTO','COD_MUNICIPIO','MUNICIPIO','TIPO_IDENTIFICACION_USUARIO','IDENTIFICACION_USUARIO','NOMBRE_USUARIO','CORREO_ELECTRONICO', 'DISCAPACIDAD', 'ETNICO','OTRO_GRUPO_INTERES','ENTIDAD_ASOCIADO_CODSIGEP','ENTIDAD_ASOCIADO_NOMBRE_SIGEP']]"
   ]
  },
  {
   "cell_type": "code",
   "execution_count": null,
   "id": "5be1c1f8",
   "metadata": {},
   "outputs": [],
   "source": [
    "df8 = df.copy()\n",
    "df8 = df8[df8['VEEDORES-ENFOQUE-ETNICO_INSCRITO'] != '-']\n",
    "df8 = df8[df8.notnull()]\n",
    "df8['VEEDORES-ENFOQUE-ETNICO_INSCRITO'] = df8['VEEDORES-ENFOQUE-ETNICO_INSCRITO'].apply(pd.to_datetime)\n",
    "df8 = df8[df8['VEEDORES-ENFOQUE-ETNICO_INSCRITO'].dt.year >= 2021]\n",
    "df8['CANAL'] = 'CURSOS_EVA'\n",
    "df8['TIPO_IDENTIFICACION_USUARIO'] = 'CC'\n",
    "df8['NOMBRE_USUARIO']= df8['NOMBRES']+df8['APELLIDOS']\n",
    "df8['DEPENDENCIA'] = 'Dirección Participación, Transparencia y Servicio al Ciudadano'\n",
    "df8['DISCAPACIDAD'] = ''\n",
    "df8['TEMA'] = 'Veedores con en enfoque etnico'\n",
    "df8['ASUNTO'] = ''\n",
    "df8['SUBTEMA'] = ''\n",
    "df8['DESCRIPCION'] = ''\n",
    "df8['OTRO_GRUPO_INTERES'] = ''\n",
    "df8['GRUPO_INTERES'] = df8['NOMBRE'].apply( lambda x: 'CIUDADANIA U OTRA ENTIDAD' if x=='CIUDADANIA U OTRA ENTIDAD' or x=='' else 'ENTIDAD' )\n",
    "df8['ENTIDAD_ASOCIADO_CODSIGEP'] = df8['CODSIGEP']\n",
    "df8['ENTIDAD_ASOCIADO_NOMBRE_SIGEP'] = df8['NOMBRE'].apply( lambda x: x if x !='CIUDADANIA U OTRA ENTIDAD' or x !='' else '' )\n",
    "df8 = df8.rename(columns={'LOGIN': 'ID_ATENCION','VEEDORES-ENFOQUE-ETNICO_INSCRITO': 'FECHA_ATENCION','EMAIL': 'CORREO_ELECTRONICO', 'CEDULA':'IDENTIFICACION_USUARIO','PUEBLO_COMUNIDAD':'ETNICO'})\n",
    "df8 = df8[['CANAL', 'DEPENDENCIA', 'ID_ATENCION', 'FECHA_ATENCION', 'ASUNTO', 'TEMA', 'SUBTEMA', 'DESCRIPCION', 'COD_DEPARTAMENTO', 'DEPARTAMENTO','COD_MUNICIPIO','MUNICIPIO','TIPO_IDENTIFICACION_USUARIO','IDENTIFICACION_USUARIO','NOMBRE_USUARIO','CORREO_ELECTRONICO', 'DISCAPACIDAD', 'ETNICO','OTRO_GRUPO_INTERES','ENTIDAD_ASOCIADO_CODSIGEP','ENTIDAD_ASOCIADO_NOMBRE_SIGEP']]"
   ]
  },
  {
   "cell_type": "code",
   "execution_count": null,
   "id": "7e1cd58a",
   "metadata": {},
   "outputs": [],
   "source": [
    "df9 = df.copy()\n",
    "df9 = df9[df9['CAPACITACION_TRATO_DIGNO_INSCRITO'] != '-']\n",
    "df9 = df9[df9.notnull()]\n",
    "df9['CAPACITACION_TRATO_DIGNO_INSCRITO'] = df9['CAPACITACION_TRATO_DIGNO_INSCRITO'].apply(pd.to_datetime)\n",
    "df9 = df9[df9['CAPACITACION_TRATO_DIGNO_INSCRITO'].dt.year >= 2021]\n",
    "df9['CANAL'] = 'CURSOS_EVA'\n",
    "df9['TIPO_IDENTIFICACION_USUARIO'] = 'CC'\n",
    "df9['NOMBRE_USUARIO']= df9['NOMBRES']+df9['APELLIDOS']\n",
    "df9['DEPENDENCIA'] = 'Dirección Participación, Transparencia y Servicio al Ciudadano'\n",
    "df9['DISCAPACIDAD'] = ''\n",
    "df9['TEMA'] = 'Trato digno'\n",
    "df9['ASUNTO'] = ''\n",
    "df9['SUBTEMA'] = ''\n",
    "df9['DESCRIPCION'] = ''\n",
    "df9['OTRO_GRUPO_INTERES'] = ''\n",
    "df9['GRUPO_INTERES'] = df9['NOMBRE'].apply( lambda x: 'CIUDADANIA U OTRA ENTIDAD' if x=='CIUDADANIA U OTRA ENTIDAD' or x=='' else 'ENTIDAD' )\n",
    "df9['ENTIDAD_ASOCIADO_CODSIGEP'] = df9['CODSIGEP']\n",
    "df9['ENTIDAD_ASOCIADO_NOMBRE_SIGEP'] = df9['NOMBRE'].apply( lambda x: x if x !='CIUDADANIA U OTRA ENTIDAD' or x !='' else '' )\n",
    "df9 = df9.rename(columns={'LOGIN': 'ID_ATENCION','CAPACITACION_TRATO_DIGNO_INSCRITO': 'FECHA_ATENCION','EMAIL': 'CORREO_ELECTRONICO', 'CEDULA':'IDENTIFICACION_USUARIO','PUEBLO_COMUNIDAD':'ETNICO'})\n",
    "df9 = df9[['CANAL', 'DEPENDENCIA', 'ID_ATENCION', 'FECHA_ATENCION', 'ASUNTO', 'TEMA', 'SUBTEMA', 'DESCRIPCION', 'COD_DEPARTAMENTO', 'DEPARTAMENTO','COD_MUNICIPIO','MUNICIPIO','TIPO_IDENTIFICACION_USUARIO','IDENTIFICACION_USUARIO','NOMBRE_USUARIO','CORREO_ELECTRONICO', 'DISCAPACIDAD', 'ETNICO','OTRO_GRUPO_INTERES','ENTIDAD_ASOCIADO_CODSIGEP','ENTIDAD_ASOCIADO_NOMBRE_SIGEP']]"
   ]
  },
  {
   "cell_type": "code",
   "execution_count": null,
   "id": "3e51e40f",
   "metadata": {},
   "outputs": [],
   "source": [
    "df10 = df.copy()\n",
    "df10 = df10[df10['RELACION-ESTADO-CIUDADANO_INSCRITO'] != '-']\n",
    "df10 = df10[df10.notnull()]\n",
    "df10['RELACION-ESTADO-CIUDADANO_INSCRITO'] = df10['RELACION-ESTADO-CIUDADANO_INSCRITO'].apply(pd.to_datetime)\n",
    "df10 = df10[df10['RELACION-ESTADO-CIUDADANO_INSCRITO'].dt.year >= 2021]\n",
    "df10['CANAL'] = 'CURSOS_EVA'\n",
    "df10['TIPO_IDENTIFICACION_USUARIO'] = 'CC'\n",
    "df10['NOMBRE_USUARIO']= df10['NOMBRES']+df10['APELLIDOS']\n",
    "df10['DEPENDENCIA'] = 'Dirección Participación, Transparencia y Servicio al Ciudadano'\n",
    "df10['DISCAPACIDAD'] = ''\n",
    "df10['TEMA'] = 'Relación estado ciudadano'\n",
    "df10['ASUNTO'] = ''\n",
    "df10['SUBTEMA'] = ''\n",
    "df10['DESCRIPCION'] = ''\n",
    "df10['OTRO_GRUPO_INTERES'] = ''\n",
    "df10['GRUPO_INTERES'] = df10['NOMBRE'].apply( lambda x: 'CIUDADANIA U OTRA ENTIDAD' if x=='CIUDADANIA U OTRA ENTIDAD' or x=='' else 'ENTIDAD' )\n",
    "df10['ENTIDAD_ASOCIADO_CODSIGEP'] = df10['CODSIGEP']\n",
    "df10['ENTIDAD_ASOCIADO_NOMBRE_SIGEP'] = df10['NOMBRE'].apply( lambda x: x if x !='CIUDADANIA U OTRA ENTIDAD' or x !='' else '' )\n",
    "df10 = df10.rename(columns={'LOGIN': 'ID_ATENCION','RELACION-ESTADO-CIUDADANO_INSCRITO': 'FECHA_ATENCION','EMAIL': 'CORREO_ELECTRONICO', 'CEDULA':'IDENTIFICACION_USUARIO','PUEBLO_COMUNIDAD':'ETNICO'})\n",
    "df10 = df10[['CANAL', 'DEPENDENCIA', 'ID_ATENCION', 'FECHA_ATENCION', 'ASUNTO', 'TEMA', 'SUBTEMA', 'DESCRIPCION', 'COD_DEPARTAMENTO', 'DEPARTAMENTO','COD_MUNICIPIO','MUNICIPIO','TIPO_IDENTIFICACION_USUARIO','IDENTIFICACION_USUARIO','NOMBRE_USUARIO','CORREO_ELECTRONICO', 'DISCAPACIDAD', 'ETNICO','OTRO_GRUPO_INTERES','ENTIDAD_ASOCIADO_CODSIGEP','ENTIDAD_ASOCIADO_NOMBRE_SIGEP']]"
   ]
  },
  {
   "cell_type": "code",
   "execution_count": null,
   "id": "0eecd2f9",
   "metadata": {},
   "outputs": [],
   "source": [
    "df11 = df.copy()\n",
    "df11 = df11[df11['MIPG_INSCRITO'] != '-']\n",
    "df11 = df11[df11.notnull()]\n",
    "df11['MIPG_INSCRITO'] = df11['MIPG_INSCRITO'].apply(pd.to_datetime)\n",
    "df11 = df11[df11['MIPG_INSCRITO'].dt.year >= 2021]\n",
    "df11['CANAL'] = 'CURSOS_EVA'\n",
    "df11['TIPO_IDENTIFICACION_USUARIO'] = 'CC'\n",
    "df11['NOMBRE_USUARIO']= df11['NOMBRES']+' - '+df11['APELLIDOS']\n",
    "df11['DEPENDENCIA'] = 'Dirección de Gestión y Desempeño Institucional'\n",
    "df11['DISCAPACIDAD'] = ''\n",
    "df11['TEMA'] = 'MIPG'\n",
    "df11['ASUNTO'] = ''\n",
    "df11['SUBTEMA'] = ''\n",
    "df11['DESCRIPCION'] = ''\n",
    "df11['OTRO_GRUPO_INTERES'] = ''\n",
    "df11['GRUPO_INTERES'] = df11['NOMBRE'].apply( lambda x: 'CIUDADANIA U OTRA ENTIDAD' if x=='CIUDADANIA U OTRA ENTIDAD' or x=='' else 'ENTIDAD' )\n",
    "df11['ENTIDAD_ASOCIADO_CODSIGEP'] = df11['CODSIGEP']\n",
    "df11['ENTIDAD_ASOCIADO_NOMBRE_SIGEP'] = df11['NOMBRE'].apply( lambda x: x if x !='CIUDADANIA U OTRA ENTIDAD' or x !='' else '' )\n",
    "df11 = df11.rename(columns={'LOGIN': 'ID_ATENCION','MIPG_INSCRITO': 'FECHA_ATENCION','EMAIL': 'CORREO_ELECTRONICO', 'CEDULA':'IDENTIFICACION_USUARIO','PUEBLO_COMUNIDAD':'ETNICO'})\n",
    "df11 = df11[['CANAL', 'DEPENDENCIA', 'ID_ATENCION', 'FECHA_ATENCION', 'ASUNTO', 'TEMA', 'SUBTEMA', 'DESCRIPCION', 'COD_DEPARTAMENTO', 'DEPARTAMENTO','COD_MUNICIPIO','MUNICIPIO','TIPO_IDENTIFICACION_USUARIO','IDENTIFICACION_USUARIO','NOMBRE_USUARIO','CORREO_ELECTRONICO', 'DISCAPACIDAD', 'ETNICO','OTRO_GRUPO_INTERES','ENTIDAD_ASOCIADO_CODSIGEP','ENTIDAD_ASOCIADO_NOMBRE_SIGEP']]"
   ]
  },
  {
   "cell_type": "code",
   "execution_count": null,
   "id": "5f3d4f2a",
   "metadata": {},
   "outputs": [],
   "source": [
    "df_final = pd.concat([df2,df3,df4,df5,df6,df7,df8,df9,df10,df11])"
   ]
  },
  {
   "cell_type": "markdown",
   "id": "3b48c63c",
   "metadata": {},
   "source": [
    "<h2>Telefonico y presencial</h2>"
   ]
  },
  {
   "cell_type": "code",
   "execution_count": null,
   "id": "dc2dd3cf",
   "metadata": {},
   "outputs": [],
   "source": [
    "df2 = pd.read_excel('lista_casos_recibidos_viegencia_2021.xlsx')\n",
    "df3= pd.read_excel('lista_casos_recibidos_vigencia_2022_corte_a_lafecha_27_07_2022.xlsx')\n",
    "df = pd.concat([df2,df3])\n",
    "df = df.loc[(df['Canal']=='TELEFONICO') | (df['Canal']=='PRESENCIAL')]"
   ]
  },
  {
   "cell_type": "code",
   "execution_count": null,
   "id": "b1d3e7e0",
   "metadata": {},
   "outputs": [],
   "source": [
    "df['COD_DEPARTAMENTO'] = ''\n",
    "df['DEPARTAMENTO'] = ''\n",
    "df['COD_MUNICIPIO'] = ''\n",
    "df['MUNICIPIO'] = ''\n",
    "df['TIPO_IDENTIFICACION_USUARIO'] = ''\n",
    "df['IDENTIFICACION_USUARIO'] = ''\n",
    "df['CORREO_ELECTRONICO'] = ''\n",
    "df['DISCAPACIDAD'] = ''\n",
    "df['ETNICO'] = ''\n",
    "df['GRUPO_INTERES'] = ''\n",
    "df['OTRO_GRUPO_INTERES'] = ''\n",
    "df['ENTIDAD_ASOCIADO_CODSIGEP'] = ''\n",
    "df['ENTIDAD_ASOCIADO_NOMBRE_SIGEP'] = ''\n",
    "df['FECHA_ATENCION'] = df['Fecha de creación del registro'].apply(pd.to_datetime)\n",
    "df = df.rename(columns={'Canal': 'CANAL','Dependencia': 'DEPENDENCIA','Número de caso': 'ID_ATENCION', 'Título de caso':'ASUNTO','Tema':'TEMA','Sub tema':'SUBTEMA','Descripción':'DESCRIPCION','Entidad/ Persona':'NOMBRE_USUARIO'})\n",
    "df = df[['CANAL', 'DEPENDENCIA', 'ID_ATENCION', 'FECHA_ATENCION', 'ASUNTO', 'TEMA', 'SUBTEMA', 'DESCRIPCION', 'COD_DEPARTAMENTO', 'DEPARTAMENTO','COD_MUNICIPIO','MUNICIPIO','TIPO_IDENTIFICACION_USUARIO','IDENTIFICACION_USUARIO','NOMBRE_USUARIO','CORREO_ELECTRONICO', 'DISCAPACIDAD', 'ETNICO','OTRO_GRUPO_INTERES','ENTIDAD_ASOCIADO_CODSIGEP','ENTIDAD_ASOCIADO_NOMBRE_SIGEP']]\n",
    "df_final = pd.concat([df_final,df])"
   ]
  },
  {
   "cell_type": "markdown",
   "id": "ee3ce285",
   "metadata": {},
   "source": [
    "<h2>Base orfeo</h2>"
   ]
  },
  {
   "cell_type": "code",
   "execution_count": null,
   "id": "614646e2",
   "metadata": {},
   "outputs": [],
   "source": [
    "df2 = pd.read_excel('reporte_peitiocnes_recibidas_enero_2021_a_Julio_2022.xls', sheet_name='Sheet 1')\n",
    "df3 = pd.read_excel('reporte_peitiocnes_recibidas_enero_2021_a_Julio_2022.xls', sheet_name='Sheet 2')\n",
    "df=pd.concat([df2,df3], axis=0)\n",
    "df=df.drop_duplicates(subset=['RADICADO_ENTRADA'], keep='first')\n",
    "df4 = pd.read_excel('preguntas_caracterizacion_vigencia_2021.xls')\n",
    "df5 = pd.read_excel('preguntas_caracterizacion_vigencia_2022_corte_26072022.xls')\n",
    "df6=pd.concat([df4,df5], axis=0)\n",
    "df7=df6[df6['ID_PREGUNTA']==1]\n",
    "df8=df6[df6['ID_PREGUNTA']==2]\n",
    "df9=df6[df6['ID_PREGUNTA']==3]\n",
    "df7 = df7[['RADI_NUME_RADI','OPCION_RESPUESTA','OPC_OTRO']]\n",
    "df8 = df8[['RADI_NUME_RADI','OPCION_RESPUESTA','OPC_OTRO']]\n",
    "df9 = df9[['RADI_NUME_RADI','OPCION_RESPUESTA','OPC_OTRO']]\n",
    "df = df.merge(df7,left_on='RADICADO_ENTRADA', right_on='RADI_NUME_RADI', how='left',suffixes=('', '_discapacidad'))\n",
    "df = df.merge(df8,left_on='RADICADO_ENTRADA', right_on='RADI_NUME_RADI', how='left',suffixes=('', '_etnico'))\n",
    "df = df.merge(df9,left_on='RADICADO_ENTRADA', right_on='RADI_NUME_RADI', how='left',suffixes=('', '_otro'))\n",
    "df['CANAL']='ESCRITO'\n",
    "df['DESCRIPCION'] = ''\n",
    "df['COD_DEPARTAMENTO'] = ''\n",
    "df['COD_MUNICIPIO'] = ''\n",
    "df['TIPO_IDENTIFICACION_USUARIO'] = ''\n",
    "df['IDENTIFICACION_USUARIO'] = ''\n",
    "df['DISCAPACIDAD'] = ''#df['OPCION_RESPUESTA_discapacidad']\n",
    "df['ETNICO'] = df['OPCION_RESPUESTA_etnico']\n",
    "df['GRUPO_INTERES'] = ''\n",
    "df['OTRO_GRUPO_INTERES'] = df['OPCION_RESPUESTA_otro']+ ' - ' +df['OPC_OTRO_otro']\n",
    "df['ENTIDAD_ASOCIADO_CODSIGEP'] = ''\n",
    "df['ENTIDAD_ASOCIADO_NOMBRE_SIGEP'] = ''\n",
    "df = df.rename(columns={'RADICADO_ENTRADA': 'ID_ATENCION','RADI_FECH_RADI':'FECHA_ATENCION','REMITENTE':'NOMBRE_USUARIO','MAIL':'CORREO_ELECTRONICO'})\n",
    "df = df[['CANAL', 'DEPENDENCIA', 'ID_ATENCION', 'FECHA_ATENCION', 'ASUNTO', 'TEMA', 'SUBTEMA', 'DESCRIPCION', 'COD_DEPARTAMENTO', 'DEPARTAMENTO','COD_MUNICIPIO','MUNICIPIO','TIPO_IDENTIFICACION_USUARIO','IDENTIFICACION_USUARIO','NOMBRE_USUARIO','CORREO_ELECTRONICO', 'DISCAPACIDAD', 'ETNICO','OTRO_GRUPO_INTERES','ENTIDAD_ASOCIADO_CODSIGEP','ENTIDAD_ASOCIADO_NOMBRE_SIGEP']]\n",
    "df_final = pd.concat([df_final,df])"
   ]
  },
  {
   "cell_type": "markdown",
   "id": "fefcdb85",
   "metadata": {},
   "source": [
    "<h2>Chat eva</h2>"
   ]
  },
  {
   "cell_type": "code",
   "execution_count": null,
   "id": "489daa1e",
   "metadata": {},
   "outputs": [],
   "source": [
    "df2 = pd.read_excel('ns.cl.dafp - visitantes chatbot 2021 S1.xlsx')\n",
    "df3= pd.read_excel('ns.cl.dafp - visitantes chatbot 2021 S2.xlsx')\n",
    "df4= pd.read_excel('ns.cl.dafp - visitantes chatbot 2022 Enero - Julio.xlsx')\n",
    "df=pd.concat([df2,df3,df4], axis=0)"
   ]
  },
  {
   "cell_type": "code",
   "execution_count": null,
   "id": "014d997e",
   "metadata": {},
   "outputs": [],
   "source": [
    "df['CANAL']='CHAT EVA'\n",
    "df['DEPENDENCIA'] = ''\n",
    "df['ASUNTO'] = ''\n",
    "df['SUBTEMA'] = ''\n",
    "df['DESCRIPCION'] = ''\n",
    "df['COD_DEPARTAMENTO'] = ''\n",
    "df['COD_MUNICIPIO'] = ''\n",
    "df['DISCAPACIDAD'] = df['Población'].apply( lambda x: 'Persona con discapacidad' if x=='Persona con discapacidad' else '' )\n",
    "df['ETNICO'] = df['Población'].apply( lambda x: 'Etnias' if x=='Etnias' else '' )\n",
    "df['OTRO_GRUPO_INTERES'] = df['Población'].apply( lambda x: x if x!='Etnias' or x=='Persona con discapacidad' else '' )\n",
    "df = df.rename(columns={'se_name':'NOMBRE_USUARIO','se_id': 'ID_ATENCION','Fecha':'FECHA_ATENCION','Tema':'TEMA','Departamento':'DEPARTAMENTO','Municipio':'MUNICIPIO','se_doc_type':'TIPO_IDENTIFICACION_USUARIO','se_doc':'IDENTIFICACION_USUARIO','se_mail':'CORREO_ELECTRONICO','Grupo de valor':'GRUPO_INTERES','Código Sigep':'ENTIDAD_ASOCIADO_CODSIGEP','Nombre entidad':'ENTIDAD_ASOCIADO_NOMBRE_SIGEP'})\n",
    "df = df[['CANAL', 'DEPENDENCIA', 'ID_ATENCION', 'FECHA_ATENCION', 'ASUNTO', 'TEMA', 'SUBTEMA', 'DESCRIPCION', 'COD_DEPARTAMENTO', 'DEPARTAMENTO','COD_MUNICIPIO','MUNICIPIO','TIPO_IDENTIFICACION_USUARIO','IDENTIFICACION_USUARIO','NOMBRE_USUARIO','CORREO_ELECTRONICO', 'DISCAPACIDAD', 'ETNICO','OTRO_GRUPO_INTERES','ENTIDAD_ASOCIADO_CODSIGEP','ENTIDAD_ASOCIADO_NOMBRE_SIGEP']]\n",
    "df_final = pd.concat([df_final,df])"
   ]
  },
  {
   "cell_type": "markdown",
   "id": "be582b4a",
   "metadata": {},
   "source": [
    "<h2>CiRM Asesorias</h2>"
   ]
  },
  {
   "cell_type": "code",
   "execution_count": null,
   "id": "c9e16f74",
   "metadata": {},
   "outputs": [],
   "source": [
    "df = pd.read_excel('2022-08-16_Archivo_planeaciòn.xlsm')"
   ]
  },
  {
   "cell_type": "code",
   "execution_count": null,
   "id": "99259262",
   "metadata": {},
   "outputs": [],
   "source": [
    "df['CANAL']='CiRM - Asesorias'\n",
    "df['ID_ATENCION']=range(len(df))\n",
    "df['ASUNTO'] = ''\n",
    "df['COD_DEPARTAMENTO'] = ''\n",
    "df['COD_MUNICIPIO'] = ''\n",
    "df['TIPO_IDENTIFICACION_USUARIO'] = 'SIGEP'\n",
    "df['IDENTIFICACION_USUARIO'] = ''\n",
    "df['NOMBRE_USUARIO'] = ''\n",
    "df['DISCAPACIDAD'] = ''\n",
    "df['ETNICO'] = ''\n",
    "df['GRUPO_INTERES'] = ''\n",
    "df['OTRO_GRUPO_INTERES'] = ''\n",
    "df['CORREO_ELECTRONICO'] = ''\n",
    "df = df.rename(columns={'Dirección Técnica':'DEPENDENCIA','Dirección Técnica':'DEPENDENCIA','Fecha sin hora':'FECHA_ATENCION','Tema':'TEMA','Nombre':'SUBTEMA','PAI Origen':'DESCRIPCION','Departamento':'DEPARTAMENTO','Municipio':'MUNICIPIO','Código SIGEP':'ENTIDAD_ASOCIADO_CODSIGEP','Entidad':'ENTIDAD_ASOCIADO_NOMBRE_SIGEP'})\n",
    "df = df[['CANAL', 'DEPENDENCIA', 'ID_ATENCION', 'FECHA_ATENCION', 'ASUNTO', 'TEMA', 'SUBTEMA', 'DESCRIPCION', 'COD_DEPARTAMENTO', 'DEPARTAMENTO','COD_MUNICIPIO','MUNICIPIO','TIPO_IDENTIFICACION_USUARIO','IDENTIFICACION_USUARIO','NOMBRE_USUARIO','CORREO_ELECTRONICO', 'DISCAPACIDAD', 'ETNICO','OTRO_GRUPO_INTERES','ENTIDAD_ASOCIADO_CODSIGEP','ENTIDAD_ASOCIADO_NOMBRE_SIGEP']]\n",
    "df = df[df.notnull()]\n",
    "df['FECHA_ATENCION'] = df['FECHA_ATENCION'].apply(pd.to_datetime)\n",
    "df = df[df['FECHA_ATENCION'].dt.year >= 2021]\n",
    "df_final = pd.concat([df_final,df])"
   ]
  },
  {
   "cell_type": "code",
   "execution_count": null,
   "id": "89f16857",
   "metadata": {},
   "outputs": [],
   "source": [
    "df_final['CANAL'].value_counts()"
   ]
  },
  {
   "cell_type": "markdown",
   "id": "d5afedce",
   "metadata": {},
   "source": [
    "<h2>Preprocesamiento</h2>"
   ]
  },
  {
   "cell_type": "code",
   "execution_count": null,
   "id": "f9d9efd5",
   "metadata": {},
   "outputs": [],
   "source": [
    "   \n",
    "def solo_mayusculas(x):\n",
    "    quitar = str(x).upper()\n",
    "    quitar = quitar.replace(\"Ó\",\"O\").replace(\"Á\",\"A\").replace(\"É\",\"E\").replace(\"Í\",\"I\").replace(\"Ú\",\"U\")\n",
    "    quitar = re.sub(\"[^A-Z\\u00d1 ]\",\"\",quitar)\n",
    "    return quitar\n",
    "\n",
    "\n",
    "def homologardependencia(x):\n",
    "    quitar = str(x).upper()\n",
    "    quitar = quitar.replace(\"Ó\",\"O\").replace(\"Á\",\"A\").replace(\"É\",\"E\").replace(\"Í\",\"I\").replace(\"Ú\",\"U\")\n",
    "    quitar = re.sub(\"[^A-Z\\u00d1 ]\",\"\",quitar)\n",
    "    if quitar == \"DDO\":\n",
    "        quitar = \"DIRECCION DE DESARROLLO ORGANIZACIONAL\"\n",
    "    elif quitar == \"DEP\":\n",
    "        quitar = \"DIRECCION DE EMPLEO PUBLICO\"\n",
    "    elif quitar == \"DGC\":\n",
    "        quitar = \"DIRECCION GESTION DEL CONOCIMIENTO\"\n",
    "    elif quitar == \"DGDI\" or quitar == \"MIPG\":\n",
    "        quitar = \"DIRECCION DE GESTION Y DESEMPEÑO INSTITUCIONAL\"\n",
    "    elif quitar == \"DPTSC\":\n",
    "        quitar = \"DIRECCION DE PARTICIPACION, TRANSPARENCIA Y SERVICIO AL CIUDADANO\"\n",
    "    elif quitar == \"GSCI\":\n",
    "        quitar = \"GRUPO DE SERVICIO AL CIUDADANO INSTITUCIONAL\"\n",
    "    return quitar\n",
    "\n",
    "def homologartema(x):\n",
    "    quitar = str(x).upper()\n",
    "    quitar = quitar.replace(\"Ó\",\"O\").replace(\"Á\",\"A\").replace(\"É\",\"E\").replace(\"Í\",\"I\").replace(\"Ú\",\"U\")\n",
    "    quitar = re.sub(\"[^A-Z\\u00d1 ]\",\"\",quitar)\n",
    "    if quitar == \"BIENESTAR SOCIAL E INCENTIVOS\" or quitar == \"BIENESTAR Y ENTORNO LABORAL SALUDABLE\":\n",
    "        quitar = \"BIENESTAR\"\n",
    "    elif quitar == \"CONSULTA INCREMENTO SALARIAL\"or quitar == \"SALARIOS\" or quitar == \"REMUNERACION\":\n",
    "        quitar = \"SALARIOS\"\n",
    "    elif quitar == \"SIGEP\" or quitar == \"COLASIGEP\" or quitar == \"DILIGENCIAMIENTO FORMATO UNICO DE HOJA DE VIDA\":\n",
    "        quitar = \"SIGEP\"\n",
    "    elif quitar == \"DEMOCRATIZACION\" or quitar == \"PARTICIPACION CIUDADANA EN LA GESTION PUBLICA\" or quitar == \"RELACION ESTADO CIUDADANO\" or quitar == \"RENDICION DE CUENTAS Y PARTICIPACION CIUDADANA\" or quitar == \"SISTEMA NACIONAL DE RENDICION DE CUENTAS SNRDC\":\n",
    "        quitar = \"PARTICIPACION CIUDADANA\"\n",
    "    elif re.match(r'.*DISEÑO*',quitar):\n",
    "        quitar = \"DISEÑO INSTITUCIONAL\"\n",
    "    elif re.match(r'.*EMPLEO*',quitar):\n",
    "        quitar = \"EMPLEO PÚBLICO\"\n",
    "    elif re.match(r'.*CAPACITACION*',quitar):\n",
    "        quitar = \"FORMACION Y CAPACITACION\"\n",
    "    elif re.match(r'.*GEREN*',quitar):\n",
    "        quitar = \"GERENCIA PÚBLICA\"\n",
    "    elif re.match(r'.*AUDITORIA*',quitar):\n",
    "        quitar = \"PLAN ANUAL DE AUDITORIA\"\n",
    "    elif re.match(r'.*INTEGRIDAD*',quitar):\n",
    "        quitar = \"INTEGRIDAD\"\n",
    "    elif re.match(r'.*FUNCIONES*',quitar):\n",
    "        quitar = \"MANUAL DE FUNCIONES\"\n",
    "    elif re.match(r'.*NEGOCIACION*',quitar):\n",
    "        quitar = \"NEGOCIASION COLECTIVA / FUERO SINDICAL\"\n",
    "    elif re.match(r'.*HUMANO*',quitar):\n",
    "        quitar = \"POLITICA DEL TALENTO HUMANO\"\n",
    "    elif re.match(r'.*RETIRO*',quitar):\n",
    "        quitar = \"RETIRO DEL SERVICIO\"\n",
    "    elif re.match(r'.*RIESGOS*',quitar):\n",
    "        quitar = \"RIESGOS Y CONTROLES\"\n",
    "    elif re.match(r'.*SUIT*',quitar):\n",
    "        quitar = \"SUIT\"\n",
    "    elif re.match(r'.*VEED*',quitar):\n",
    "        quitar = \"VEEDURIAS\"\n",
    "    elif quitar == \"MECI\" or quitar == \"MIPG\" or re.match(r'.*MODELO*',quitar):\n",
    "        quitar = \"MODELO INTEGRADO DE PLANEACION Y GESTION\"\n",
    "    return quitar\n",
    "\n",
    "def evaluar_grupo(x):   \n",
    "    if x['TIPO_IDENTIFICACION_USUARIO'] == 'SIGEP':\n",
    "        quitar = 'ENTIDAD'\n",
    "    elif x['CANAL'] == 'CURSOS_EVA' and x['ENTIDAD_ASOCIADO_NOMBRE_SIGEP'] == 'CIUDADANIA U OTRA ENTIDAD':\n",
    "        quitar = 'CIUDADANIA U OTRA ENTIDAD'\n",
    "    elif x['CANAL'] == 'CURSOS_EVA' and x['ENTIDAD_ASOCIADO_NOMBRE_SIGEP'] != 'CIUDADANIA U OTRA ENTIDAD':\n",
    "        quitar = 'SERVIDOR PÚBLICO'\n",
    "    elif x['CANAL'] == 'CHAT EVA' and x['ENTIDAD_ASOCIADO_CODSIGEP'] != '':\n",
    "        quitar = 'SERVIDOR PÚBLICO'        \n",
    "    elif x['CANAL'] == 'CHAT EVA' and re.match(r'.*GOV.CO*',str(x['CORREO_ELECTRONICO']).upper()):\n",
    "        quitar = 'SERVIDOR PÚBLICO'  \n",
    "    elif x['CANAL'] == 'CHAT EVA':\n",
    "        quitar = 'CIUDADANIA U OTRA ENTIDAD'\n",
    "    elif x['CANAL'] == 'TELEFONICO':\n",
    "        quitar = 'SERVIDOR PÚBLICO'\n",
    "    elif x['CANAL'] == 'ESCRITO' and re.match(r'.*.GOV.*',str(x['CORREO_ELECTRONICO']).upper()):   \n",
    "        quitar = 'ENTIDAD'\n",
    "    elif x['CANAL'] == 'ESCRITO' and re.match(r'.*.ORG*',str(x['CORREO_ELECTRONICO']).upper()):   \n",
    "        quitar = 'CIUDADANIA U OTRA ENTIDAD'\n",
    "    elif x['CANAL'] == 'ESCRITO' and x['CORREO_ELECTRONICO'] != '' and re.match(r'^(?!.*EDU.CO*).*',str(x['CORREO_ELECTRONICO']).upper()):\n",
    "        quitar = 'CIUDADANIA U OTRA ENTIDAD'\n",
    "    elif x['CANAL'] == 'ESCRITO' and re.match(r'.*ESAP.EDU*',str(x['CORREO_ELECTRONICO']).upper()):\n",
    "        quitar = 'CIUDADANIA U OTRA ENTIDAD'\n",
    "    elif x['CANAL'] == 'ESCRITO' and re.match(r'.*EDU.CO*',str(x['CORREO_ELECTRONICO']).upper()):\n",
    "        quitar = 'CIUDADANIA U OTRA ENTIDAD'\n",
    "    elif x['CANAL'] == 'ESCRITO' and x['OTRO_GRUPO_INTERES'] != '':   \n",
    "        quitar = x['OTRO_GRUPO_INTERES']\n",
    "    elif x['CANAL'] == 'PRESENCIAL':\n",
    "        quitar = 'SERVIDOR PÚBLICO'\n",
    "    return quitar\n",
    "\n",
    "def evaluar_departamento(x):\n",
    "    quitar = str(x).upper()\n",
    "    quitar = quitar.replace(\"Ó\",\"O\").replace(\"Á\",\"A\").replace(\"É\",\"E\").replace(\"Í\",\"I\").replace(\"Ú\",\"U\").replace(\"Ü\",\"U\")\n",
    "    quitar = re.sub(\"[^A-Z\\u00d1 ]\",\"\",quitar)\n",
    "    if re.match(r'.*SAN ANDRES*',quitar):\n",
    "        quitar = \"ARCHIPIELAGO DE SAN ANDRES PROVIDENCIA Y SANTA CATALINA\"\n",
    "    elif re.match(r'.*BOGOTA*',quitar):\n",
    "        quitar = \"BOGOTA D.C.\"\n",
    "    elif quitar == \"VALLE\":\n",
    "        quitar = \"VALLE DEL CAUCA\"\n",
    "    elif quitar == \"NARINO\":\n",
    "        quitar = \"NARIÑO\"\n",
    "    return quitar\n",
    "    "
   ]
  },
  {
   "cell_type": "code",
   "execution_count": null,
   "id": "50222c8e",
   "metadata": {},
   "outputs": [],
   "source": [
    "sigep = pd.read_excel('Entidades.xlsx')\n",
    "sigep['NOMBRE'] = sigep['NOMBRE'].apply(solo_mayusculas)\n",
    "lista = list(sigep['NOMBRE'].unique())"
   ]
  },
  {
   "cell_type": "code",
   "execution_count": null,
   "id": "c7a61484",
   "metadata": {},
   "outputs": [],
   "source": [
    "df_final['NOMBRE_USUARIO_2']=df_final['NOMBRE_USUARIO'].apply(solo_mayusculas)\n",
    "df_final['ENTIDAD_ASOCIADO_NOMBRE_SIGEP_2']=df_final['ENTIDAD_ASOCIADO_NOMBRE_SIGEP'].apply(solo_mayusculas)\n",
    "df_final['DEPENDENCIA'] = df_final['DEPENDENCIA'].apply(homologardependencia)\n",
    "df_final['TEMA_MOD'] = df_final['TEMA'].apply(homologartema)\n",
    "df_final['GRUPO_INTERES_MOD'] = df_final.apply(evaluar_grupo, axis = 1)\n",
    "df_final['DEPARTAMENTO'] = df_final['DEPARTAMENTO'].apply(evaluar_departamento)"
   ]
  },
  {
   "cell_type": "code",
   "execution_count": null,
   "id": "f3fbdf6a",
   "metadata": {},
   "outputs": [],
   "source": [
    "divipola = [[\"05\", \"ANTIOQUIA\"], [\"08\", \"ATLANTICO\"], [\"11\", \"BOGOTA D.C.\"], [\"13\", \"BOLIVAR\"], [\"15\", \"BOYACA\"], [\"17\", \"CALDAS\"], [\"18\", \"CAQUETA\"], [\"19\", \"CAUCA\"], [\"20\", \"CESAR\"], [\"23\", \"CORDOBA\"], [\"25\", \"CUNDINAMARCA\"], [\"27\", \"CHOCO\"], [\"41\", \"HUILA\"], [\"44\", \"LA GUAJIRA\"], [\"47\", \"MAGDALENA\"], [\"50\", \"META\"], [\"52\", \"NARIÑO\"], [\"54\", \"NORTE DE SANTANDER\"], [\"63\", \"QUINDIO\"], [\"66\", \"RISARALDA\"], [\"68\", \"SANTANDER\"], [\"70\", \"SUCRE\"], [\"73\", \"TOLIMA\"], [\"76\", \"VALLE DEL CAUCA\"], [\"81\", \"ARAUCA\"], [\"85\", \"CASANARE\"], [\"86\", \"PUTUMAYO\"], [\"88\", \"ARCHIPIELAGO DE SAN ANDRES PROVIDENCIA Y SANTA CATALINA\"], [\"91\", \"AMAZONAS\"], [\"94\", \"GUAINIA\"], [\"95\", \"GUAVIARE\"], [\"97\", \"VAUPES\"], [\"99\", \"VICHADA\"]]\n",
    "divipola = pd.DataFrame(divipola, columns=['COD_DIVIPOLA', 'NAME_DIVIPOLA'])\n",
    "df_final = df_final.merge(divipola,left_on='DEPARTAMENTO', right_on='NAME_DIVIPOLA', how='left')"
   ]
  },
  {
   "cell_type": "code",
   "execution_count": null,
   "id": "2c0572c0",
   "metadata": {},
   "outputs": [],
   "source": [
    "df_final['CONCAT'] = df_final[\"NOMBRE_USUARIO\"].astype(str) + ' ' + df_final[\"NAME_DIVIPOLA\"].astype(str)"
   ]
  },
  {
   "cell_type": "code",
   "execution_count": null,
   "id": "3d0ef1e0",
   "metadata": {},
   "outputs": [],
   "source": [
    "df_final1 = df_final.loc[(df_final['CANAL'] == 'ESCRITO')]\n",
    "df_final2 = df_final.loc[(df_final['CANAL'] != 'ESCRITO')]"
   ]
  },
  {
   "cell_type": "code",
   "execution_count": null,
   "id": "bc9307bb",
   "metadata": {},
   "outputs": [],
   "source": [
    "df_final3= df_final1[df_final1['CORREO_ELECTRONICO'].notnull()]\n",
    "df_final4= df_final1[df_final1['CORREO_ELECTRONICO'].isnull()]"
   ]
  },
  {
   "cell_type": "code",
   "execution_count": null,
   "id": "fa697756",
   "metadata": {},
   "outputs": [],
   "source": [
    "display(df_final3.shape,df_final4.shape,df_final.shape)"
   ]
  },
  {
   "cell_type": "code",
   "execution_count": null,
   "id": "8fa09c96",
   "metadata": {},
   "outputs": [],
   "source": [
    "divipola = pd.read_excel('Entidades.xlsx')\n",
    "divipola['CONCAT']= divipola['NOMBRE'] + ' ' + divipola['DEPARTAMENTO']\n",
    "divipola.columns"
   ]
  },
  {
   "cell_type": "code",
   "execution_count": null,
   "id": "a2c16ce2",
   "metadata": {},
   "outputs": [],
   "source": [
    "from fuzzywuzzy import fuzz,process\n",
    "\n",
    "dfmatch = df_final4[\"CONCAT\"]\n",
    "divipolamatch = divipola[\"CONCAT\"]\n",
    "finallista = []\n",
    "def match_score(dfmatch,divipolamatch):\n",
    "    max_score = -1\n",
    "    min_score = 80\n",
    "    name = \"\"\n",
    "    for termino in divipolamatch:\n",
    "        score = fuzz.partial_ratio(dfmatch,termino)\n",
    "        if (score > min_score) & (score > max_score):\n",
    "            name = termino\n",
    "            max_score = score\n",
    "    return (name,max_score)\n",
    "\n",
    "for i in dfmatch:\n",
    "    ##print(i,match_score(i,divipolamatch))\n",
    "    matched = match_score(i,divipolamatch)\n",
    "    final = {}\n",
    "    final.update({\"ENTIDAD_MOD\":matched[0]})\n",
    "    final.update({\"SCORE\":matched[1]})\n",
    "    finallista.append(final)\n",
    "    \n",
    "data = pd.DataFrame(finallista)\n",
    "print(dfmatch)"
   ]
  },
  {
   "cell_type": "code",
   "execution_count": null,
   "id": "eb436c1c",
   "metadata": {},
   "outputs": [],
   "source": [
    "data = data.join(divipola.set_index(\"CONCAT\"), on=\"ENTIDAD_MOD\", how='left',lsuffix='_left')"
   ]
  },
  {
   "cell_type": "code",
   "execution_count": null,
   "id": "e7b46b2f",
   "metadata": {},
   "outputs": [],
   "source": [
    "#df_final4.drop(columns=[\"REVISAR\", \"SCORE\"])\n",
    "df_final4[\"REVISAR\"]=list(data[\"ENTIDAD_MOD\"])\n",
    "df_final4[\"SCORE\"]=list(data[\"SCORE\"])"
   ]
  },
  {
   "cell_type": "code",
   "execution_count": null,
   "id": "ac9bf363",
   "metadata": {},
   "outputs": [],
   "source": [
    "df_final3[\"REVISAR\"] = ''\n",
    "df_final3[\"SCORE\"] = ''\n",
    "df_final2[\"REVISAR\"] = ''\n",
    "df_final2[\"SCORE\"] = ''\n",
    "df_final = pd.concat([df_final4,df_final3,df_final2])"
   ]
  },
  {
   "cell_type": "code",
   "execution_count": null,
   "id": "cdb27226",
   "metadata": {},
   "outputs": [],
   "source": [
    "df_final.to_excel('2022-08-18_Base_final_v2.xlsx', index=False)"
   ]
  },
  {
   "cell_type": "code",
   "execution_count": null,
   "id": "3bdee46b",
   "metadata": {},
   "outputs": [],
   "source": [
    "data.to_excel('Pegar_entidad.xlsx', index=False)"
   ]
  },
  {
   "cell_type": "code",
   "execution_count": null,
   "id": "760be179",
   "metadata": {},
   "outputs": [],
   "source": [
    "len(list(data[\"ENTIDAD_MOD\"]))"
   ]
  },
  {
   "cell_type": "code",
   "execution_count": null,
   "id": "ae754696",
   "metadata": {},
   "outputs": [],
   "source": [
    "df_final4"
   ]
  }
 ],
 "metadata": {
  "kernelspec": {
   "display_name": "Python 3 (ipykernel)",
   "language": "python",
   "name": "python3"
  },
  "language_info": {
   "codemirror_mode": {
    "name": "ipython",
    "version": 3
   },
   "file_extension": ".py",
   "mimetype": "text/x-python",
   "name": "python",
   "nbconvert_exporter": "python",
   "pygments_lexer": "ipython3",
   "version": "3.8.8"
  }
 },
 "nbformat": 4,
 "nbformat_minor": 5
}
