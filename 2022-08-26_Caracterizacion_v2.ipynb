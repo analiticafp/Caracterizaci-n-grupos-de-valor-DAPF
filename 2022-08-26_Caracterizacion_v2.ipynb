{
 "cells": [
  {
   "cell_type": "code",
   "execution_count": 1,
   "id": "44a8f60b",
   "metadata": {},
   "outputs": [],
   "source": [
    "import pandas as pd"
   ]
  },
  {
   "cell_type": "code",
   "execution_count": 2,
   "id": "f11d8961",
   "metadata": {},
   "outputs": [],
   "source": [
    "df = pd.read_excel('2022-08-18_Base_final_v3_final.xlsx')"
   ]
  },
  {
   "cell_type": "code",
   "execution_count": 3,
   "id": "427a3359",
   "metadata": {},
   "outputs": [
    {
     "data": {
      "text/plain": [
       "Index(['CANAL', 'DEPENDENCIA', 'ID_ATENCION', 'FECHA_ATENCION', 'ASUNTO',\n",
       "       'TEMA', 'SUBTEMA', 'DESCRIPCION', 'COD_DEPARTAMENTO', 'DEPARTAMENTO',\n",
       "       'COD_MUNICIPIO', 'MUNICIPIO', 'TIPO_IDENTIFICACION_USUARIO',\n",
       "       'IDENTIFICACION_USUARIO', 'NOMBRE_USUARIO', 'CORREO_ELECTRONICO',\n",
       "       'DISCAPACIDAD', 'ETNICO', 'OTRO_GRUPO_INTERES',\n",
       "       'ENTIDAD_ASOCIADO_COD_SIGEP', 'ENTIDAD_ASOCIADO_NOMBRE_SIGEP',\n",
       "       'NOMBRE_USUARIO2', 'ENTIDAD_ASOCIADO_NOMBRE_SIGEP2', 'TEMA_MOD',\n",
       "       'GRUPO_INTERES_MOD', 'COD_DIVIPOLA', 'NAME_DIVIPOLA', 'NOMBRE_SIGEP',\n",
       "       'ORDEN_SIGEP', 'CLASIFICACION_ORGANICA_SIGEP',\n",
       "       'NATURALEZA_JURIDICA_SIGEP', 'SECTOR_SIGEP', 'UNICOS'],\n",
       "      dtype='object')"
      ]
     },
     "execution_count": 3,
     "metadata": {},
     "output_type": "execute_result"
    }
   ],
   "source": [
    "df.columns"
   ]
  },
  {
   "cell_type": "code",
   "execution_count": 188,
   "id": "f86f122c",
   "metadata": {},
   "outputs": [
    {
     "name": "stderr",
     "output_type": "stream",
     "text": [
      "C:\\Users\\MISERIOR\\AppData\\Local\\Temp\\ipykernel_16340\\3849556284.py:10: FutureWarning: The frame.append method is deprecated and will be removed from pandas in a future version. Use pandas.concat instead.\n",
      "  df4 = df4.append(newrwo, ignore_index=True)\n"
     ]
    }
   ],
   "source": [
    "df1 = df[df['IDENTIFICACION_USUARIO'].notnull()]\n",
    "df2 = df[df['IDENTIFICACION_USUARIO'].isnull()]\n",
    "df1 = df1.groupby('GRUPO_INTERES_MOD', as_index = False)['IDENTIFICACION_USUARIO'].nunique()\n",
    "df2 = df2.groupby('GRUPO_INTERES_MOD', as_index = False)['CANAL'].count()\n",
    "df2 = df2.rename(columns={'CANAL':'IDENTIFICACION_USUARIO'})\n",
    "df4 = pd.concat([df1,df2]).groupby('GRUPO_INTERES_MOD', as_index = False)['IDENTIFICACION_USUARIO'].sum()\n",
    "df4 = df4[df4['GRUPO_INTERES_MOD']!='ENTIDAD']\n",
    "entidad_val = df[(df['GRUPO_INTERES_MOD']=='ENTIDAD')]['ENTIDAD_ASOCIADO_COD_SIGEP'].nunique()\n",
    "newrwo = {'GRUPO_INTERES_MOD':'ENTIDAD','IDENTIFICACION_USUARIO':entidad_val}\n",
    "df4 = df4.append(newrwo, ignore_index=True)\n",
    "dfs = {}\n",
    "dfs['Grupo de interes'] = df4"
   ]
  },
  {
   "cell_type": "code",
   "execution_count": 189,
   "id": "b1d3c939",
   "metadata": {},
   "outputs": [],
   "source": [
    "df1 = df[df['IDENTIFICACION_USUARIO'].notnull()]\n",
    "df2 = df[df['IDENTIFICACION_USUARIO'].isnull()]\n",
    "df1 = df1.groupby('CANAL', as_index = False)['IDENTIFICACION_USUARIO'].nunique()\n",
    "df2 = df2.groupby('CANAL', as_index = False)['GRUPO_INTERES_MOD'].count()\n",
    "df2 = df2.rename(columns={'GRUPO_INTERES_MOD':'IDENTIFICACION_USUARIO'})\n",
    "entidad_val = df[(df['GRUPO_INTERES_MOD']=='ENTIDAD')].groupby('CANAL', as_index = False)['ENTIDAD_ASOCIADO_COD_SIGEP'].nunique()\n",
    "entidad_val = entidad_val.rename(columns={'ENTIDAD_ASOCIADO_COD_SIGEP':'IDENTIFICACION_USUARIO'})\n",
    "df4 = pd.concat([df1,df2,entidad_val]).groupby('CANAL', as_index = False)['IDENTIFICACION_USUARIO'].sum()\n",
    "dfs['Canal'] = df4"
   ]
  },
  {
   "cell_type": "code",
   "execution_count": 190,
   "id": "25d28a9f",
   "metadata": {},
   "outputs": [],
   "source": [
    "df1 = df[df['IDENTIFICACION_USUARIO'].notnull()]\n",
    "df2 = df[df['IDENTIFICACION_USUARIO'].isnull()]\n",
    "df1 = df1.groupby('NAME_DIVIPOLA', as_index = False)['IDENTIFICACION_USUARIO'].nunique()\n",
    "df2 = df2.groupby('NAME_DIVIPOLA', as_index = False)['GRUPO_INTERES_MOD'].count()\n",
    "df2 = df2.rename(columns={'GRUPO_INTERES_MOD':'IDENTIFICACION_USUARIO'})\n",
    "entidad_val = df[(df['GRUPO_INTERES_MOD']=='ENTIDAD')].groupby('NAME_DIVIPOLA', as_index = False)['ENTIDAD_ASOCIADO_COD_SIGEP'].nunique()\n",
    "entidad_val = entidad_val.rename(columns={'ENTIDAD_ASOCIADO_COD_SIGEP':'IDENTIFICACION_USUARIO'})\n",
    "df4 = pd.concat([df1,df2,entidad_val]).groupby('NAME_DIVIPOLA', as_index = False)['IDENTIFICACION_USUARIO'].sum()\n",
    "dfs['Departamento'] = df4"
   ]
  },
  {
   "cell_type": "code",
   "execution_count": 191,
   "id": "0dbe3a01",
   "metadata": {},
   "outputs": [],
   "source": [
    "df['ETNICO_2'] = df['ETNICO'].apply( lambda x: 'No registra' if pd.isnull(x) else x )\n",
    "df1 = df.loc[(df['IDENTIFICACION_USUARIO'].notnull())& (df['GRUPO_INTERES_MOD']!='ENTIDAD')]\n",
    "df2 = df.loc[(df['IDENTIFICACION_USUARIO'].isnull()) & (df['GRUPO_INTERES_MOD']!='ENTIDAD')]\n",
    "df1 = df1.groupby('ETNICO_2', as_index = False)['IDENTIFICACION_USUARIO'].nunique()\n",
    "df2 = df2.groupby('ETNICO_2', as_index = False)['GRUPO_INTERES_MOD'].count()\n",
    "df2 = df2.rename(columns={'GRUPO_INTERES_MOD':'IDENTIFICACION_USUARIO'})\n",
    "df4 = pd.concat([df1,df2]).groupby('ETNICO_2', as_index = False)['IDENTIFICACION_USUARIO'].sum()\n",
    "df4.sort_values(by='IDENTIFICACION_USUARIO', ascending=False)\n",
    "dfs['Etnico'] = df4"
   ]
  },
  {
   "cell_type": "code",
   "execution_count": 192,
   "id": "862c73ae",
   "metadata": {},
   "outputs": [],
   "source": [
    "df['DISCAPACIDAD_2'] = df['DISCAPACIDAD'].apply( lambda x: 'No registra' if pd.isnull(x) else x )\n",
    "df1 = df.loc[(df['IDENTIFICACION_USUARIO'].notnull()) & (df['GRUPO_INTERES_MOD']!='ENTIDAD')]\n",
    "df2 = df.loc[(df['IDENTIFICACION_USUARIO'].isnull()) & (df['GRUPO_INTERES_MOD']!='ENTIDAD')]\n",
    "df1 = df1.groupby('DISCAPACIDAD_2', as_index = False)['IDENTIFICACION_USUARIO'].nunique()\n",
    "df2 = df2.groupby('DISCAPACIDAD_2', as_index = False)['GRUPO_INTERES_MOD'].count()\n",
    "df2 = df2.rename(columns={'GRUPO_INTERES_MOD':'IDENTIFICACION_USUARIO'})\n",
    "df4 = pd.concat([df1,df2]).groupby('DISCAPACIDAD_2', as_index = False)['IDENTIFICACION_USUARIO'].sum()\n",
    "df4.sort_values(by='IDENTIFICACION_USUARIO', ascending=False)\n",
    "dfs['Discapacidad'] = df4"
   ]
  },
  {
   "cell_type": "code",
   "execution_count": 193,
   "id": "7392af62",
   "metadata": {},
   "outputs": [],
   "source": [
    "df4 = df.groupby(['CANAL','TEMA_MOD'], as_index = False)['GRUPO_INTERES_MOD'].count()\n",
    "df4.sort_values(by=['CANAL','GRUPO_INTERES_MOD'], ascending=False)\n",
    "dfs['Temas'] = df4"
   ]
  },
  {
   "cell_type": "code",
   "execution_count": 194,
   "id": "e2ce84b4",
   "metadata": {},
   "outputs": [],
   "source": [
    "entidad_val = df.loc[(df['GRUPO_INTERES_MOD']=='ENTIDAD')&(df['ORDEN_SIGEP']=='NACIONAL')&(df['CLASIFICACION_ORGANICA_SIGEP']=='RAMA EJECUTIVA')].groupby(['SECTOR_SIGEP','TEMA_MOD','CANAL'], as_index = False)['ENTIDAD_ASOCIADO_COD_SIGEP'].nunique()\n",
    "entidad_val.sort_values(by=['SECTOR_SIGEP','ENTIDAD_ASOCIADO_COD_SIGEP'], ascending=True)\n",
    "dfs['Sector'] = df4"
   ]
  },
  {
   "cell_type": "code",
   "execution_count": 195,
   "id": "ca1c44b3",
   "metadata": {},
   "outputs": [],
   "source": [
    "entidad_val = df.loc[(df['GRUPO_INTERES_MOD']=='ENTIDAD')&(df['ORDEN_SIGEP']=='TERRITORIAL')].groupby(['NATURALEZA_JURIDICA_SIGEP','CLASIFICACION_ORGANICA_SIGEP','TEMA_MOD','CANAL'], as_index = False)['ENTIDAD_ASOCIADO_COD_SIGEP'].nunique()\n",
    "entidad_val.sort_values(by=['NATURALEZA_JURIDICA_SIGEP','ENTIDAD_ASOCIADO_COD_SIGEP'], ascending=True)\n",
    "dfs['Naturaleza'] = df4"
   ]
  },
  {
   "cell_type": "code",
   "execution_count": 196,
   "id": "ed8366c5",
   "metadata": {},
   "outputs": [],
   "source": [
    "writer = pd.ExcelWriter('Base_final.xlsx')\n",
    "\n",
    "for name,dataframe in dfs.items():\n",
    "    dataframe.to_excel(writer,name,index=False)\n",
    "\n",
    "writer.save()"
   ]
  },
  {
   "cell_type": "code",
   "execution_count": null,
   "id": "53292ff8",
   "metadata": {},
   "outputs": [],
   "source": []
  }
 ],
 "metadata": {
  "kernelspec": {
   "display_name": "Python 3 (ipykernel)",
   "language": "python",
   "name": "python3"
  },
  "language_info": {
   "codemirror_mode": {
    "name": "ipython",
    "version": 3
   },
   "file_extension": ".py",
   "mimetype": "text/x-python",
   "name": "python",
   "nbconvert_exporter": "python",
   "pygments_lexer": "ipython3",
   "version": "3.8.8"
  }
 },
 "nbformat": 4,
 "nbformat_minor": 5
}
